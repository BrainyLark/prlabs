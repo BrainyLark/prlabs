{
 "cells": [
  {
   "cell_type": "code",
   "execution_count": 1,
   "metadata": {},
   "outputs": [
    {
     "name": "stderr",
     "output_type": "stream",
     "text": [
      "/usr/local/lib/python3.6/site-packages/sklearn/cross_validation.py:41: DeprecationWarning: This module was deprecated in version 0.18 in favor of the model_selection module into which all the refactored classes and functions are moved. Also note that the interface of the new CV iterators are different from that of this module. This module will be removed in 0.20.\n",
      "  \"This module will be removed in 0.20.\", DeprecationWarning)\n"
     ]
    }
   ],
   "source": [
    "import cv2\n",
    "import glob\n",
    "import numpy as np\n",
    "import matplotlib.pyplot as plt\n",
    "from sklearn import cross_validation, metrics, cluster\n",
    "from sklearn.naive_bayes import GaussianNB\n",
    "from sklearn.ensemble import RandomForestClassifier\n",
    "from sklearn.neighbors import KNeighborsClassifier"
   ]
  },
  {
   "cell_type": "code",
   "execution_count": 2,
   "metadata": {},
   "outputs": [],
   "source": [
    "#зургийн шинж чанарын матриц ба лейбелүүдийг агуулах өгөгдлийн бүтэц\n",
    "class Data:\n",
    "    def __init__(this, records, targets):\n",
    "        this.records = records\n",
    "        this.targets = targets"
   ]
  },
  {
   "cell_type": "code",
   "execution_count": 3,
   "metadata": {},
   "outputs": [],
   "source": [
    "#Хавтсаар уншхад бэлтгэх\n",
    "filenames = [img for img in glob.glob(\"pie 10/*.bmp\")]\n",
    "filenames.sort()\n",
    "#Боловсруулалт\n",
    "MAX_ILLUMINATION = 255 \n",
    "X_FEATURES = np.zeros(shape=(150, 2500)) #бүх хавтгайлсан зурагнуудын хүснэгт үүсгэх\n",
    "for index in range(0, len(filenames)):\n",
    "    image = cv2.imread(filenames[index], cv2.IMREAD_GRAYSCALE)\n",
    "    image = cv2.equalizeHist(image) #уншсан зургийнхаа хистограмыг тэнцүүлэх\n",
    "    image = cv2.resize(image, (50, 50), cv2.INTER_NEAREST) #зургийн хэмжээг багасгах\n",
    "    X_FEATURES[index] = image.flatten()/MAX_ILLUMINATION #зургийн пикселүүдийн матрицыг хавтайлаад 0-1 утга руу багасгах"
   ]
  },
  {
   "cell_type": "code",
   "execution_count": 4,
   "metadata": {},
   "outputs": [],
   "source": [
    "#Хэмжээс багасгах процесс\n",
    "K = 50 #багасгахаар зорьж буй хэмжээс\n",
    "SIGMA = np.matmul(X_FEATURES.transpose(), X_FEATURES) / 150 #шинж чанарын хэмжээсүүдийн коварианц матриц\n",
    "P, D, Q = np.linalg.svd(SIGMA, full_matrices=True) #коварианц матрицыг декомпосаци хийх\n",
    "P_reduced = P[:, 0:K] #эхний к ширхэг баганыг авах\n",
    "del(P, D, Q)"
   ]
  },
  {
   "cell_type": "code",
   "execution_count": 5,
   "metadata": {},
   "outputs": [],
   "source": [
    "#Зурагнуудад лейбелийг нь оноох\n",
    "Z_features = np.matmul(X_FEATURES, P_reduced) #к хэмжээст матрицаа эх зургуудтай үржиж зорилтот матрицаа гаргаж авах\n",
    "targets = np.array([int(lbl/10)+1 for lbl in range(0, 150)]) #150 зураг тус бүрт 1-15 хүртэл \n",
    "\n",
    "data = Data(Z_features, targets) #к хэмжээстэд буулгасан зураг ба тэдгээрийн жинхэнэ хариу"
   ]
  },
  {
   "cell_type": "code",
   "execution_count": 8,
   "metadata": {},
   "outputs": [],
   "source": [
    "f1_gauss = []\n",
    "f1_rf = []\n",
    "f1_knn = []\n",
    "\n",
    "#К-нугалааст хөндлөн үнэлгээ\n",
    "kf = cross_validation.KFold(len(data.records), n_folds=5, shuffle=True) #150 өгөгдлийг 30-с бүрдэх 5 хэсэгт хуваах\n",
    "\n",
    "#нугалаа бүрийн хувьд сургалтын ба туршилтын өгөгдлийг солбих\n",
    "#энэ нөхцөлд 120 ширхэг сургалтын, 30 ширхэг туршилтын өгөгдөлд хуваагдана\n",
    "for train_index, test_index in kf:\n",
    "    X_train, y_train = data.records[train_index], data.targets[train_index]\n",
    "    X_test, y_test = data.records[test_index], data.targets[test_index]\n",
    "    \n",
    "    clf_g = GaussianNB()\n",
    "    clf_g.fit(X_train, y_train)\n",
    "    pred = clf_g.predict(X_test)\n",
    "    \n",
    "    f1 = metrics.f1_score(y_test, pred, average='micro')\n",
    "    f1_gauss.append(f1)\n",
    "    \n",
    "    clf_r = RandomForestClassifier(n_estimators=15)\n",
    "    clf_r.fit(X_train, y_train)\n",
    "    pred = clf_r.predict(X_test)\n",
    "    \n",
    "    f1 = metrics.f1_score(y_test, pred, average='micro')\n",
    "    f1_rf.append(f1)\n",
    "    \n",
    "    clf_knn = KNeighborsClassifier(n_neighbors=5)\n",
    "    clf_knn.fit(X_train, y_train)\n",
    "    pred = clf_knn.predict(X_test)\n",
    "    \n",
    "    f1 = metrics.f1_score(y_test, pred, average='micro')\n",
    "    f1_knn.append(f1)"
   ]
  },
  {
   "cell_type": "code",
   "execution_count": 9,
   "metadata": {},
   "outputs": [
    {
     "name": "stdout",
     "output_type": "stream",
     "text": [
      "Gaussian F1 Score:  [0.8666666666666667, 0.9333333333333333, 0.9, 0.8666666666666667, 0.8666666666666667]\n",
      "Random Forest F1 Score:  [0.9, 0.9666666666666667, 0.9, 0.9333333333333333, 0.9333333333333333]\n",
      "KNN F1 Score:  [0.9666666666666667, 0.9333333333333333, 0.9666666666666667, 0.9666666666666667, 0.9666666666666667]\n"
     ]
    }
   ],
   "source": [
    "#үр дүнг хэвлэх\n",
    "print('Gaussian F1 Score: ', f1_gauss)\n",
    "print('Random Forest F1 Score: ', f1_rf)\n",
    "print('KNN F1 Score: ', f1_knn)"
   ]
  },
  {
   "cell_type": "code",
   "execution_count": 17,
   "metadata": {},
   "outputs": [],
   "source": [
    "#ялгаатай хөршүүд дээр kNN алгоритмыг үнэлэх\n",
    "index = 0\n",
    "F1_SCORE = np.zeros(shape=(5, 4))\n",
    "neighbors = [3, 5, 10, 20]\n",
    "kf = cross_validation.KFold(len(data.records), n_folds=5, shuffle=True)\n",
    "for train_index, test_index in kf:\n",
    "    X_train, y_train = data.records[train_index], data.targets[train_index]\n",
    "    X_test, y_test = data.records[test_index], data.targets[test_index]\n",
    "        \n",
    "    f1 = []    \n",
    "        \n",
    "    for n in neighbors:\n",
    "        clf_knn = KNeighborsClassifier(n_neighbors=n)\n",
    "        clf_knn.fit(X_train, y_train)\n",
    "        pred = clf_knn.predict(X_test)\n",
    "        \n",
    "        f1.append(metrics.f1_score(y_test, pred, average='micro'))\n",
    "        \n",
    "    F1_SCORE[index] = f1\n",
    "    index = index + 1"
   ]
  },
  {
   "cell_type": "code",
   "execution_count": null,
   "metadata": {},
   "outputs": [],
   "source": []
  },
  {
   "cell_type": "code",
   "execution_count": null,
   "metadata": {},
   "outputs": [],
   "source": []
  }
 ],
 "metadata": {
  "kernelspec": {
   "display_name": "Python 3",
   "language": "python",
   "name": "python3"
  },
  "language_info": {
   "codemirror_mode": {
    "name": "ipython",
    "version": 3
   },
   "file_extension": ".py",
   "mimetype": "text/x-python",
   "name": "python",
   "nbconvert_exporter": "python",
   "pygments_lexer": "ipython3",
   "version": "3.6.4"
  }
 },
 "nbformat": 4,
 "nbformat_minor": 2
}
